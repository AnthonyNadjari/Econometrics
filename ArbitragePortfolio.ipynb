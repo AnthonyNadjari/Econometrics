{
 "cells": [
  {
   "cell_type": "code",
   "execution_count": 1,
   "id": "70118eca",
   "metadata": {},
   "outputs": [
    {
     "data": {
      "text/html": [
       "<div>\n",
       "<style scoped>\n",
       "    .dataframe tbody tr th:only-of-type {\n",
       "        vertical-align: middle;\n",
       "    }\n",
       "\n",
       "    .dataframe tbody tr th {\n",
       "        vertical-align: top;\n",
       "    }\n",
       "\n",
       "    .dataframe thead th {\n",
       "        text-align: right;\n",
       "    }\n",
       "</style>\n",
       "<table border=\"1\" class=\"dataframe\">\n",
       "  <thead>\n",
       "    <tr style=\"text-align: right;\">\n",
       "      <th></th>\n",
       "      <th>Dates</th>\n",
       "      <th>CAC40</th>\n",
       "      <th>MICHELIN</th>\n",
       "      <th>LOREAL</th>\n",
       "      <th>SAFRAN</th>\n",
       "      <th>SODEXO</th>\n",
       "      <th>VIVENDI</th>\n",
       "    </tr>\n",
       "  </thead>\n",
       "  <tbody>\n",
       "    <tr>\n",
       "      <th>0</th>\n",
       "      <td>01/09/2011</td>\n",
       "      <td>3265.83</td>\n",
       "      <td>50.180</td>\n",
       "      <td>75.46</td>\n",
       "      <td>27.775</td>\n",
       "      <td>52.110</td>\n",
       "      <td>16.7274</td>\n",
       "    </tr>\n",
       "    <tr>\n",
       "      <th>1</th>\n",
       "      <td>02/09/2011</td>\n",
       "      <td>3148.53</td>\n",
       "      <td>47.805</td>\n",
       "      <td>74.37</td>\n",
       "      <td>27.005</td>\n",
       "      <td>51.500</td>\n",
       "      <td>16.2096</td>\n",
       "    </tr>\n",
       "    <tr>\n",
       "      <th>2</th>\n",
       "      <td>05/09/2011</td>\n",
       "      <td>2999.54</td>\n",
       "      <td>45.310</td>\n",
       "      <td>72.52</td>\n",
       "      <td>26.055</td>\n",
       "      <td>49.595</td>\n",
       "      <td>15.5806</td>\n",
       "    </tr>\n",
       "    <tr>\n",
       "      <th>3</th>\n",
       "      <td>06/09/2011</td>\n",
       "      <td>2965.64</td>\n",
       "      <td>44.600</td>\n",
       "      <td>72.08</td>\n",
       "      <td>25.150</td>\n",
       "      <td>50.700</td>\n",
       "      <td>15.0871</td>\n",
       "    </tr>\n",
       "    <tr>\n",
       "      <th>4</th>\n",
       "      <td>07/09/2011</td>\n",
       "      <td>3073.18</td>\n",
       "      <td>46.960</td>\n",
       "      <td>72.70</td>\n",
       "      <td>27.125</td>\n",
       "      <td>52.090</td>\n",
       "      <td>15.5467</td>\n",
       "    </tr>\n",
       "  </tbody>\n",
       "</table>\n",
       "</div>"
      ],
      "text/plain": [
       "        Dates    CAC40  MICHELIN  LOREAL  SAFRAN  SODEXO  VIVENDI\n",
       "0  01/09/2011  3265.83    50.180   75.46  27.775  52.110  16.7274\n",
       "1  02/09/2011  3148.53    47.805   74.37  27.005  51.500  16.2096\n",
       "2  05/09/2011  2999.54    45.310   72.52  26.055  49.595  15.5806\n",
       "3  06/09/2011  2965.64    44.600   72.08  25.150  50.700  15.0871\n",
       "4  07/09/2011  3073.18    46.960   72.70  27.125  52.090  15.5467"
      ]
     },
     "execution_count": 1,
     "metadata": {},
     "output_type": "execute_result"
    }
   ],
   "source": [
    "import pandas as pd\n",
    "import numpy as np\n",
    "data=pd.read_csv(\"DataLab1.csv\", sep=\";\")\n",
    "data.head()"
   ]
  },
  {
   "cell_type": "markdown",
   "id": "1a86df54",
   "metadata": {},
   "source": [
    "##### We rename the data, convert string to time and compute the log-returns"
   ]
  },
  {
   "cell_type": "code",
   "execution_count": 3,
   "id": "1599eccd",
   "metadata": {},
   "outputs": [],
   "source": [
    "for col_name in data.keys()[1:]:\n",
    "    data[col_name + \"_ret\"] = data[col_name].pct_change()[1:]\n",
    "data[\"Dates\"]=pd.to_datetime(data['Dates'], format='%d/%m/%Y')\n",
    "data=data[1:]\n"
   ]
  },
  {
   "cell_type": "markdown",
   "id": "e5d879eb",
   "metadata": {},
   "source": [
    "We run regressions to obtain the following modele : \n",
    "## $R_{i,t} = \\alpha_{i} + \\beta_iR_{CAC,t} + \\epsilon_{i,t}$"
   ]
  },
  {
   "cell_type": "code",
   "execution_count": 4,
   "id": "37e952fc",
   "metadata": {
    "collapsed": true,
    "jupyter": {
     "outputs_hidden": true
    }
   },
   "outputs": [
    {
     "name": "stderr",
     "output_type": "stream",
     "text": [
      "/srv/conda/envs/notebook/lib/python3.7/site-packages/sklearn/linear_model/least_angle.py:30: DeprecationWarning: `np.float` is a deprecated alias for the builtin `float`. To silence this warning, use `float` by itself. Doing this will not modify any behavior and is safe. If you specifically wanted the numpy scalar type, use `np.float64` here.\n",
      "Deprecated in NumPy 1.20; for more details and guidance: https://numpy.org/devdocs/release/1.20.0-notes.html#deprecations\n",
      "  method='lar', copy_X=True, eps=np.finfo(np.float).eps,\n",
      "/srv/conda/envs/notebook/lib/python3.7/site-packages/sklearn/linear_model/least_angle.py:167: DeprecationWarning: `np.float` is a deprecated alias for the builtin `float`. To silence this warning, use `float` by itself. Doing this will not modify any behavior and is safe. If you specifically wanted the numpy scalar type, use `np.float64` here.\n",
      "Deprecated in NumPy 1.20; for more details and guidance: https://numpy.org/devdocs/release/1.20.0-notes.html#deprecations\n",
      "  method='lar', copy_X=True, eps=np.finfo(np.float).eps,\n",
      "/srv/conda/envs/notebook/lib/python3.7/site-packages/sklearn/linear_model/least_angle.py:284: DeprecationWarning: `np.float` is a deprecated alias for the builtin `float`. To silence this warning, use `float` by itself. Doing this will not modify any behavior and is safe. If you specifically wanted the numpy scalar type, use `np.float64` here.\n",
      "Deprecated in NumPy 1.20; for more details and guidance: https://numpy.org/devdocs/release/1.20.0-notes.html#deprecations\n",
      "  eps=np.finfo(np.float).eps, copy_Gram=True, verbose=0,\n",
      "/srv/conda/envs/notebook/lib/python3.7/site-packages/sklearn/linear_model/least_angle.py:862: DeprecationWarning: `np.float` is a deprecated alias for the builtin `float`. To silence this warning, use `float` by itself. Doing this will not modify any behavior and is safe. If you specifically wanted the numpy scalar type, use `np.float64` here.\n",
      "Deprecated in NumPy 1.20; for more details and guidance: https://numpy.org/devdocs/release/1.20.0-notes.html#deprecations\n",
      "  eps=np.finfo(np.float).eps, copy_X=True, fit_path=True,\n",
      "/srv/conda/envs/notebook/lib/python3.7/site-packages/sklearn/linear_model/least_angle.py:1101: DeprecationWarning: `np.float` is a deprecated alias for the builtin `float`. To silence this warning, use `float` by itself. Doing this will not modify any behavior and is safe. If you specifically wanted the numpy scalar type, use `np.float64` here.\n",
      "Deprecated in NumPy 1.20; for more details and guidance: https://numpy.org/devdocs/release/1.20.0-notes.html#deprecations\n",
      "  eps=np.finfo(np.float).eps, copy_X=True, fit_path=True,\n",
      "/srv/conda/envs/notebook/lib/python3.7/site-packages/sklearn/linear_model/least_angle.py:1127: DeprecationWarning: `np.float` is a deprecated alias for the builtin `float`. To silence this warning, use `float` by itself. Doing this will not modify any behavior and is safe. If you specifically wanted the numpy scalar type, use `np.float64` here.\n",
      "Deprecated in NumPy 1.20; for more details and guidance: https://numpy.org/devdocs/release/1.20.0-notes.html#deprecations\n",
      "  eps=np.finfo(np.float).eps, positive=False):\n",
      "/srv/conda/envs/notebook/lib/python3.7/site-packages/sklearn/linear_model/least_angle.py:1362: DeprecationWarning: `np.float` is a deprecated alias for the builtin `float`. To silence this warning, use `float` by itself. Doing this will not modify any behavior and is safe. If you specifically wanted the numpy scalar type, use `np.float64` here.\n",
      "Deprecated in NumPy 1.20; for more details and guidance: https://numpy.org/devdocs/release/1.20.0-notes.html#deprecations\n",
      "  max_n_alphas=1000, n_jobs=None, eps=np.finfo(np.float).eps,\n",
      "/srv/conda/envs/notebook/lib/python3.7/site-packages/sklearn/linear_model/least_angle.py:1602: DeprecationWarning: `np.float` is a deprecated alias for the builtin `float`. To silence this warning, use `float` by itself. Doing this will not modify any behavior and is safe. If you specifically wanted the numpy scalar type, use `np.float64` here.\n",
      "Deprecated in NumPy 1.20; for more details and guidance: https://numpy.org/devdocs/release/1.20.0-notes.html#deprecations\n",
      "  max_n_alphas=1000, n_jobs=None, eps=np.finfo(np.float).eps,\n",
      "/srv/conda/envs/notebook/lib/python3.7/site-packages/sklearn/linear_model/least_angle.py:1738: DeprecationWarning: `np.float` is a deprecated alias for the builtin `float`. To silence this warning, use `float` by itself. Doing this will not modify any behavior and is safe. If you specifically wanted the numpy scalar type, use `np.float64` here.\n",
      "Deprecated in NumPy 1.20; for more details and guidance: https://numpy.org/devdocs/release/1.20.0-notes.html#deprecations\n",
      "  eps=np.finfo(np.float).eps, copy_X=True, positive=False):\n"
     ]
    }
   ],
   "source": [
    "from sklearn.linear_model import LinearRegression\n",
    "ols=LinearRegression\n",
    "\n",
    "\n",
    "\n",
    "reg_ml=ols().fit(data[\"CAC40_ret\"].values.reshape(-1,1),data[\"MICHELIN_ret\"].values.reshape(-1,1))\n",
    "reg_ore=ols().fit(data[\"CAC40_ret\"].values.reshape(-1,1),data[\"LOREAL_ret\"].values.reshape(-1,1))\n",
    "reg_saf=ols().fit(data[\"CAC40_ret\"].values.reshape(-1,1),data[\"SAFRAN_ret\"].values.reshape(-1,1))\n",
    "reg_sod=ols().fit(data[\"CAC40_ret\"].values.reshape(-1,1),data[\"SODEXO_ret\"].values.reshape(-1,1))\n",
    "reg_viv=ols().fit(data[\"CAC40_ret\"].values.reshape(-1,1),data[\"VIVENDI_ret\"].values.reshape(-1,1))\n",
    "\n",
    "\n",
    "\n",
    "y_true_ml=np.array(data[\"MICHELIN_ret\"])\n",
    "y_true_ore=np.array(data[\"LOREAL_ret\"])\n",
    "y_true_saf=np.array(data[\"SAFRAN_ret\"])\n",
    "y_true_sod=np.array(data[\"SODEXO_ret\"])\n",
    "y_true_viv=np.array(data[\"VIVENDI_ret\"])\n",
    "\n",
    "\n",
    "\n"
   ]
  },
  {
   "cell_type": "markdown",
   "id": "30b5154c",
   "metadata": {},
   "source": [
    "Compute the intercepts $\\alpha_i$ and take the lowest / highest. We find that the minimum is Sodexo, the maximum is L'Oreal"
   ]
  },
  {
   "cell_type": "code",
   "execution_count": 10,
   "id": "4cafe8a5",
   "metadata": {},
   "outputs": [
    {
     "name": "stdout",
     "output_type": "stream",
     "text": [
      "[0.00045434]\n",
      "[-2.37801121e-05]\n"
     ]
    }
   ],
   "source": [
    "b0=np.array([reg_ml.intercept_,reg_ore.intercept_,reg_saf.intercept_,reg_sod.intercept_,reg_viv.intercept_])\n",
    "print(max(b0))\n",
    "print(min(b0))"
   ]
  },
  {
   "cell_type": "markdown",
   "id": "ed6856bd",
   "metadata": {},
   "source": [
    "Starting with an initial value of 100, we can compute the return of our portfolio at time $t$: <br>\n",
    "$P_t = P_{t-1} + R_{OR,t}(1+R_{SW,t})-R_{SW,t}$"
   ]
  },
  {
   "cell_type": "code",
   "execution_count": 11,
   "id": "12c818ed",
   "metadata": {},
   "outputs": [
    {
     "data": {
      "image/png": "[encoded data removed]",
      "text/plain": [
       "<Figure size 640x480 with 1 Axes>"
      ]
     },
     "metadata": {},
     "output_type": "display_data"
    },
    {
     "name": "stdout",
     "output_type": "stream",
     "text": [
      "[100.         100.01303483  99.98455188 ... 101.45202549 101.47058951\n",
      " 101.4502543 ]\n"
     ]
    }
   ],
   "source": [
    "pf_value = np.array([100])\n",
    "for i in range(len(data[\"LOREAL_ret\"])):\n",
    "    pf_value=np.append(pf_value,np.array([pf_value[-1]+(-data[\"SODEXO_ret\"].values[i]+data[\"LOREAL_ret\"].values[i]*(1+data[\"SODEXO_ret\"].values[i]))]))\n",
    "import matplotlib.pyplot as plt\n",
    "\n",
    "plt.plot(data[\"Dates\"],pf_value[1:])\n",
    "plt.show()\n",
    "print(pf_value)"
   ]
  },
  {
   "cell_type": "code",
   "execution_count": null,
   "id": "d24d82ce",
   "metadata": {},
   "outputs": [],
   "source": []
  }
 ],
 "metadata": {
  "kernelspec": {
   "display_name": "Python 3",
   "language": "python",
   "name": "python3"
  },
  "language_info": {
   "codemirror_mode": {
    "name": "ipython",
    "version": 3
   },
   "file_extension": ".py",
   "mimetype": "text/x-python",
   "name": "python",
   "nbconvert_exporter": "python",
   "pygments_lexer": "ipython3",
   "version": "3.7.8"
  }
 },
 "nbformat": 4,
 "nbformat_minor": 5
}
